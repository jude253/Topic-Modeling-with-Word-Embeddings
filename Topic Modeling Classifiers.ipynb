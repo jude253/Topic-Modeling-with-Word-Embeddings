{
 "cells": [
  {
   "cell_type": "markdown",
   "metadata": {},
   "source": [
    "# Experimenting with Topic Modeling using Word Embeddings\n",
    "\n",
    "The data set being used contains research paper titles and abstracts as well as labels as either Computer Science, Physics, Mathematics, Statistics, Quantitative Biology, Quantitative Finance, or some combination of those labels.  The approach that I am taking is to convert the text to a vector using word embeddings trained on this data set, then I will train a classifier for each of the labels, separately.  At the end I am going to create a function that when text is inputed will return the likely topic(s) of the title or abstract.\n",
    "\n",
    "This function will evaluate the inputed text on each of the classifiers separately, then return an array with the results of each one in the same order that they appear in the columns in the training dataset."
   ]
  },
  {
   "cell_type": "code",
   "execution_count": 1,
   "metadata": {},
   "outputs": [
    {
     "name": "stdout",
     "output_type": "stream",
     "text": [
      "You're running python 3.8.1\n"
     ]
    }
   ],
   "source": [
    "import sys\n",
    "import pandas as pd\n",
    "import matplotlib.pyplot as plt\n",
    "import random\n",
    "import numpy as np\n",
    "\n",
    "from nltk.corpus import stopwords\n",
    "from nltk.stem.wordnet import WordNetLemmatizer\n",
    "from sklearn.ensemble import RandomForestClassifier\n",
    "\n",
    "from gensim.models.doc2vec import Doc2Vec, TaggedDocument\n",
    "from gensim.models import Word2Vec\n",
    "import gensim.utils\n",
    "\n",
    "import tensorflow as tf\n",
    "\n",
    "%matplotlib notebook\n",
    "print('You\\'re running python %s' % sys.version.split(' ')[0])"
   ]
  },
  {
   "cell_type": "markdown",
   "metadata": {},
   "source": [
    "#### Load the training data:"
   ]
  },
  {
   "cell_type": "code",
   "execution_count": 2,
   "metadata": {},
   "outputs": [],
   "source": [
    "train = pd.read_csv('TM_Dataset/train.csv',keep_default_na=False)"
   ]
  },
  {
   "cell_type": "markdown",
   "metadata": {},
   "source": [
    "## Take a look at the training data:"
   ]
  },
  {
   "cell_type": "code",
   "execution_count": 3,
   "metadata": {},
   "outputs": [
    {
     "data": {
      "text/html": [
       "<div>\n",
       "<style scoped>\n",
       "    .dataframe tbody tr th:only-of-type {\n",
       "        vertical-align: middle;\n",
       "    }\n",
       "\n",
       "    .dataframe tbody tr th {\n",
       "        vertical-align: top;\n",
       "    }\n",
       "\n",
       "    .dataframe thead th {\n",
       "        text-align: right;\n",
       "    }\n",
       "</style>\n",
       "<table border=\"1\" class=\"dataframe\">\n",
       "  <thead>\n",
       "    <tr style=\"text-align: right;\">\n",
       "      <th></th>\n",
       "      <th>ID</th>\n",
       "      <th>TITLE</th>\n",
       "      <th>ABSTRACT</th>\n",
       "      <th>Computer Science</th>\n",
       "      <th>Physics</th>\n",
       "      <th>Mathematics</th>\n",
       "      <th>Statistics</th>\n",
       "      <th>Quantitative Biology</th>\n",
       "      <th>Quantitative Finance</th>\n",
       "    </tr>\n",
       "  </thead>\n",
       "  <tbody>\n",
       "    <tr>\n",
       "      <th>0</th>\n",
       "      <td>1</td>\n",
       "      <td>Reconstructing Subject-Specific Effect Maps</td>\n",
       "      <td>Predictive models allow subject-specific inf...</td>\n",
       "      <td>1</td>\n",
       "      <td>0</td>\n",
       "      <td>0</td>\n",
       "      <td>0</td>\n",
       "      <td>0</td>\n",
       "      <td>0</td>\n",
       "    </tr>\n",
       "    <tr>\n",
       "      <th>1</th>\n",
       "      <td>2</td>\n",
       "      <td>Rotation Invariance Neural Network</td>\n",
       "      <td>Rotation invariance and translation invarian...</td>\n",
       "      <td>1</td>\n",
       "      <td>0</td>\n",
       "      <td>0</td>\n",
       "      <td>0</td>\n",
       "      <td>0</td>\n",
       "      <td>0</td>\n",
       "    </tr>\n",
       "    <tr>\n",
       "      <th>2</th>\n",
       "      <td>3</td>\n",
       "      <td>Spherical polyharmonics and Poisson kernels fo...</td>\n",
       "      <td>We introduce and develop the notion of spher...</td>\n",
       "      <td>0</td>\n",
       "      <td>0</td>\n",
       "      <td>1</td>\n",
       "      <td>0</td>\n",
       "      <td>0</td>\n",
       "      <td>0</td>\n",
       "    </tr>\n",
       "    <tr>\n",
       "      <th>3</th>\n",
       "      <td>4</td>\n",
       "      <td>A finite element approximation for the stochas...</td>\n",
       "      <td>The stochastic Landau--Lifshitz--Gilbert (LL...</td>\n",
       "      <td>0</td>\n",
       "      <td>0</td>\n",
       "      <td>1</td>\n",
       "      <td>0</td>\n",
       "      <td>0</td>\n",
       "      <td>0</td>\n",
       "    </tr>\n",
       "    <tr>\n",
       "      <th>4</th>\n",
       "      <td>5</td>\n",
       "      <td>Comparative study of Discrete Wavelet Transfor...</td>\n",
       "      <td>Fourier-transform infra-red (FTIR) spectra o...</td>\n",
       "      <td>1</td>\n",
       "      <td>0</td>\n",
       "      <td>0</td>\n",
       "      <td>1</td>\n",
       "      <td>0</td>\n",
       "      <td>0</td>\n",
       "    </tr>\n",
       "  </tbody>\n",
       "</table>\n",
       "</div>"
      ],
      "text/plain": [
       "   ID                                              TITLE  \\\n",
       "0   1        Reconstructing Subject-Specific Effect Maps   \n",
       "1   2                 Rotation Invariance Neural Network   \n",
       "2   3  Spherical polyharmonics and Poisson kernels fo...   \n",
       "3   4  A finite element approximation for the stochas...   \n",
       "4   5  Comparative study of Discrete Wavelet Transfor...   \n",
       "\n",
       "                                            ABSTRACT  Computer Science  \\\n",
       "0    Predictive models allow subject-specific inf...                 1   \n",
       "1    Rotation invariance and translation invarian...                 1   \n",
       "2    We introduce and develop the notion of spher...                 0   \n",
       "3    The stochastic Landau--Lifshitz--Gilbert (LL...                 0   \n",
       "4    Fourier-transform infra-red (FTIR) spectra o...                 1   \n",
       "\n",
       "   Physics  Mathematics  Statistics  Quantitative Biology  \\\n",
       "0        0            0           0                     0   \n",
       "1        0            0           0                     0   \n",
       "2        0            1           0                     0   \n",
       "3        0            1           0                     0   \n",
       "4        0            0           1                     0   \n",
       "\n",
       "   Quantitative Finance  \n",
       "0                     0  \n",
       "1                     0  \n",
       "2                     0  \n",
       "3                     0  \n",
       "4                     0  "
      ]
     },
     "execution_count": 3,
     "metadata": {},
     "output_type": "execute_result"
    }
   ],
   "source": [
    "train.head()"
   ]
  },
  {
   "cell_type": "markdown",
   "metadata": {},
   "source": [
    "#### Create array with labels for later:"
   ]
  },
  {
   "cell_type": "code",
   "execution_count": 4,
   "metadata": {},
   "outputs": [],
   "source": [
    "labels = np.array(['Computer Science', 'Physics', 'Mathematics', 'Statistics', 'Quantitative Biology', 'Quantitative Finance'],dtype='str')"
   ]
  },
  {
   "cell_type": "markdown",
   "metadata": {},
   "source": [
    "#### Break up dataset into lists that can be used for training and testing sets:"
   ]
  },
  {
   "cell_type": "code",
   "execution_count": 5,
   "metadata": {},
   "outputs": [],
   "source": [
    "# this row number has a title that has no strings after simple_preprocess, so I removed it\n",
    "issueRowNumber = 8270\n",
    "\n",
    "# X's\n",
    "inputAbstracts = train['ABSTRACT'].tolist()\n",
    "inputTitles = train['TITLE'].tolist()\n",
    "inputAbstracts.pop(issueRowNumber)\n",
    "inputTitles.pop(issueRowNumber)\n",
    "\n",
    "# y's or labels\n",
    "labelColumns = [None]*len(labels)\n",
    "for i in range(len(labels)):\n",
    "    col = train[labels[i]].tolist()\n",
    "    col.pop(issueRowNumber)\n",
    "    labelColumns[i] = col"
   ]
  },
  {
   "cell_type": "markdown",
   "metadata": {},
   "source": [
    "#### Tokenize titles and abstracts:"
   ]
  },
  {
   "cell_type": "code",
   "execution_count": 6,
   "metadata": {},
   "outputs": [],
   "source": [
    "#tokenize titles:\n",
    "inputTitleTokens = []\n",
    "for title in inputTitles:\n",
    "    tokens = gensim.utils.simple_preprocess(title)\n",
    "    inputTitleTokens.append(tokens)\n",
    "    \n",
    "#tokenize abstracts:   \n",
    "inputAbstractTokens = []\n",
    "for abstract in inputAbstracts:\n",
    "    tokens = gensim.utils.simple_preprocess(abstract)\n",
    "    inputAbstractTokens.append(tokens)\n",
    "# inputAbstractTokens,inputLabels"
   ]
  },
  {
   "cell_type": "markdown",
   "metadata": {},
   "source": [
    "#### Create Word Embeddings for article titles using Word2Vec"
   ]
  },
  {
   "cell_type": "code",
   "execution_count": 7,
   "metadata": {},
   "outputs": [],
   "source": [
    "W2V_model = Word2Vec(inputTitleTokens, min_count=1,size=100,workers=3, window=5, sg=1)"
   ]
  },
  {
   "cell_type": "markdown",
   "metadata": {},
   "source": [
    "#### Vectorize article titles using Word Embeddings:"
   ]
  },
  {
   "cell_type": "code",
   "execution_count": 8,
   "metadata": {},
   "outputs": [],
   "source": [
    "vectorizedTitles = [None]*len(inputTitleTokens)\n",
    "for i in range(len(inputTitleTokens)):\n",
    "    post=[]\n",
    "    for word in inputTitleTokens[i]:\n",
    "        try:\n",
    "            post.append(W2V_model.wv[word])\n",
    "        except:\n",
    "            'do nothing'\n",
    "    post_avg = np.mean(np.array(post, dtype='f'),axis=0)\n",
    "#     print(i,inputLabels[i],inputTitle[i],post_avg,W2V_model.wv.most_similar(positive=[post_sum], topn=5))\n",
    "    vectorizedTitles[i]=post_avg"
   ]
  },
  {
   "cell_type": "markdown",
   "metadata": {},
   "source": [
    "#### Split up testing and training sets:"
   ]
  },
  {
   "cell_type": "code",
   "execution_count": 9,
   "metadata": {},
   "outputs": [
    {
     "name": "stdout",
     "output_type": "stream",
     "text": [
      "Testing set size: 4194 | Training set size: 16777 | Total size: 20971\n"
     ]
    }
   ],
   "source": [
    "test_size = len(inputTitles)//5\n",
    "train_size = len(inputTitles)-test_size\n",
    "print('Testing set size: '+str(test_size),'|','Training set size: '+str(train_size),'|','Total size: '+str(test_size+train_size))"
   ]
  },
  {
   "cell_type": "code",
   "execution_count": 10,
   "metadata": {},
   "outputs": [],
   "source": [
    "#create the X test and training matricies for the article titles\n",
    "temp = np.array(vectorizedTitles)\n",
    "X_title_test,X_title_train = temp[train_size:],temp[:train_size]\n",
    "\n",
    "#create the Y test and training arrays for the article labels (list of \"np.array columns\")\n",
    "Y_train,Y_test = [None]*len(labelColumns),[None]*len(labelColumns)\n",
    "for colNumber in range(len(labelColumns)):\n",
    "    temp = np.array(labelColumns[colNumber])\n",
    "    Y_test[colNumber],Y_train[colNumber]  = temp[train_size:],temp[:train_size]"
   ]
  },
  {
   "cell_type": "markdown",
   "metadata": {},
   "source": [
    "#### Create random forest classifiers for each label:"
   ]
  },
  {
   "cell_type": "code",
   "execution_count": 11,
   "metadata": {},
   "outputs": [
    {
     "name": "stdout",
     "output_type": "stream",
     "text": [
      "0 Computer Science\n",
      "Training accuracy: 0.7981760743875543\n",
      "Testing accuracy: 0.7906533142584645\n",
      "\n",
      "1 Physics\n",
      "Training accuracy: 0.8664242713238363\n",
      "Testing accuracy: 0.8512160228898427\n",
      "\n",
      "2 Mathematics\n",
      "Training accuracy: 0.8533110806461227\n",
      "Testing accuracy: 0.837863614687649\n",
      "\n",
      "3 Statistics\n",
      "Training accuracy: 0.8357870894677236\n",
      "Testing accuracy: 0.8116356700047688\n",
      "\n",
      "4 Quantitative Biology\n",
      "Training accuracy: 0.970972164272516\n",
      "Testing accuracy: 0.9763948497854077\n",
      "\n",
      "5 Quantitative Finance\n",
      "Training accuracy: 0.988496155450915\n",
      "Testing accuracy: 0.9871244635193133\n",
      "\n"
     ]
    }
   ],
   "source": [
    "classifiers = [None]*len(Y_train)\n",
    "for colNumber in range(len(Y_train)):\n",
    "    temp = RandomForestClassifier(max_depth=6,n_estimators=10)\n",
    "    temp.fit(X_title_train, Y_train[colNumber])\n",
    "    classifiers[colNumber] = temp\n",
    "    print(colNumber,labels[colNumber])\n",
    "    print('Training accuracy:',np.sum(temp.predict(X_title_train)==Y_train[colNumber])/len(X_title_train))\n",
    "    print('Testing accuracy:',np.sum(temp.predict(X_title_test)==Y_test[colNumber])/len(X_title_test))\n",
    "    print()"
   ]
  },
  {
   "cell_type": "markdown",
   "metadata": {},
   "source": [
    "#### Create classifier function that evaluates input text on all five labels:"
   ]
  },
  {
   "cell_type": "code",
   "execution_count": 12,
   "metadata": {},
   "outputs": [],
   "source": [
    "def classifier(title):\n",
    "    global classifiers\n",
    "    tokenTitle = gensim.utils.simple_preprocess(title)\n",
    "    vecTitle=[]\n",
    "    for word in tokenTitle:\n",
    "        try:\n",
    "            vecTitle.append(W2V_model.wv[word])\n",
    "        except:\n",
    "            'do nothing'\n",
    "    vecTitle = np.mean(np.array(vecTitle, dtype='f'),axis=0)\n",
    "    preds = [None]*len(classifiers)\n",
    "    for index in range(len(classifiers)):\n",
    "        preds[index] = int(classifiers[index].predict(vecTitle.reshape(1, -1))[0])\n",
    "    return np.array(preds)"
   ]
  },
  {
   "cell_type": "markdown",
   "metadata": {},
   "source": [
    "#### Try out classifier on some made up article name inputs:"
   ]
  },
  {
   "cell_type": "code",
   "execution_count": 13,
   "metadata": {},
   "outputs": [
    {
     "name": "stdout",
     "output_type": "stream",
     "text": [
      "Output vector: [1 0 0 1 0 0] | Predicited Label(s): ['Computer Science' 'Statistics']\n"
     ]
    }
   ],
   "source": [
    "articleName = \"New Methods for KNN with text data\"\n",
    "preds = classifier(articleName)\n",
    "print('Output vector:',preds,'|','Predicited Label(s):',labels[preds==1])"
   ]
  },
  {
   "cell_type": "code",
   "execution_count": 14,
   "metadata": {},
   "outputs": [
    {
     "name": "stdout",
     "output_type": "stream",
     "text": [
      "Output vector: [0 1 0 0 0 0] | Predicited Label(s): ['Physics']\n"
     ]
    }
   ],
   "source": [
    "articleName = \"Pi used in new formula\"\n",
    "preds = classifier(articleName)\n",
    "print('Output vector:',preds,'|','Predicited Label(s):',labels[preds==1])"
   ]
  },
  {
   "cell_type": "code",
   "execution_count": 16,
   "metadata": {},
   "outputs": [
    {
     "name": "stdout",
     "output_type": "stream",
     "text": [
      "Output vector: [0 0 1 0 0 0] | Predicited Label(s): ['Mathematics']\n"
     ]
    }
   ],
   "source": [
    "articleName = \"New prime discovered\"\n",
    "preds = classifier(articleName)\n",
    "print('Output vector:',preds,'|','Predicited Label(s):',labels[preds==1])"
   ]
  },
  {
   "cell_type": "code",
   "execution_count": 18,
   "metadata": {},
   "outputs": [
    {
     "name": "stdout",
     "output_type": "stream",
     "text": [
      "Output vector: [1 0 0 0 0 0] | Predicited Label(s): ['Computer Science']\n"
     ]
    }
   ],
   "source": [
    "articleName = \"New Data distribution used to speed up training\"\n",
    "preds = classifier(articleName)\n",
    "print('Output vector:',preds,'|','Predicited Label(s):',labels[preds==1])"
   ]
  },
  {
   "cell_type": "code",
   "execution_count": null,
   "metadata": {},
   "outputs": [],
   "source": []
  }
 ],
 "metadata": {
  "kernelspec": {
   "display_name": "Python 3",
   "language": "python",
   "name": "python3"
  },
  "language_info": {
   "codemirror_mode": {
    "name": "ipython",
    "version": 3
   },
   "file_extension": ".py",
   "mimetype": "text/x-python",
   "name": "python",
   "nbconvert_exporter": "python",
   "pygments_lexer": "ipython3",
   "version": "3.8.1"
  }
 },
 "nbformat": 4,
 "nbformat_minor": 2
}
